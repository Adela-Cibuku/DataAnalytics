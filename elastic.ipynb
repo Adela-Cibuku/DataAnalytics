{
 "cells": [
  {
   "cell_type": "code",
   "execution_count": 2,
   "id": "efaba342-b668-4d67-bf0b-4fac64839d41",
   "metadata": {},
   "outputs": [
    {
     "name": "stdout",
     "output_type": "stream",
     "text": [
      "+--------------------------+--------------------+-----------+-----------+----------------------+-----------+-----------+-----------+-----------+-----------+--------------------+--------------------+--------------------+-------------+--------------------+-------+----------+------------+--------------------+-----------+------------+-----+-----+\n",
      "|BusinessAcceptsCreditCards|     BusinessParking|     Friday|     Monday|RestaurantsPriceRange2|   Saturday|     Sunday|   Thursday|    Tuesday|  Wednesday|             address|         business_id|          categories|         city|               hours|is_open|  latitude|   longitude|                name|postal_code|review_count|stars|state|\n",
      "+--------------------------+--------------------+-----------+-----------+----------------------+-----------+-----------+-----------+-----------+-----------+--------------------+--------------------+--------------------+-------------+--------------------+-------+----------+------------+--------------------+-----------+------------+-----+-----+\n",
      "|                   Unknown|             Unknown|     Closed|     Closed|               Unknown|     Closed|     Closed|     Closed|     Closed|     Closed|1616 Chapala St, ...|Pns2l4eNsfO8kk83d...|Doctors, Traditio...|Santa Barbara|[Unknown, Unknown...|      0|34.4266787|-119.7111968|Abby Rappoport, L...|      93101|           7|  5.0|   CA|\n",
      "|                      True|             Unknown|08:00-18:30|     Closed|               Unknown|08:00-14:00|     Closed|08:00-18:30|08:00-18:30|08:00-18:30|87 Grasso Plaza S...|mpf3x-BjTdTEA3yCZ...|Shipping Centers,...|       Affton|[0:0-0:0, 8:0-18:...|      1| 38.551126|  -90.335695|       The UPS Store|      63123|          15|  3.0|   MO|\n",
      "|                      True|{'garage': False,...|08:00-23:00|08:00-22:00|                     2|08:00-23:00|08:00-22:00|08:00-22:00|08:00-22:00|08:00-22:00|5255 E Broadway Blvd|tUFrWirKiKi_TAnsV...|Department Stores...|       Tucson|[8:0-22:0, 8:0-22...|      0| 32.223236| -110.880452|              Target|      85711|          22|  3.5|   AZ|\n",
      "|                     False|{'garage': False,...|07:00-21:00|07:00-20:00|                     1|07:00-21:00|07:00-21:00|07:00-20:00|07:00-20:00|07:00-20:00|         935 Race St|MTSW4McQd7CbVtyjq...|Restaurants, Food...| Philadelphia|[7:0-20:0, 7:0-20...|      1|39.9555052| -75.1555641|  St Honore Pastries|      19107|          80|  4.0|   PA|\n",
      "|                      True|{'garage': None, ...|12:00-22:00|     Closed|               Unknown|12:00-22:00|12:00-18:00|16:00-22:00|     Closed|14:00-22:00|       101 Walnut St|mWMc6_wTdE0EUBKIG...|Brewpubs, Breweri...|   Green Lane|[Unknown, Unknown...|      1|40.3381827| -75.4716585|Perkiomen Valley ...|      18054|          13|  4.5|   PA|\n",
      "+--------------------------+--------------------+-----------+-----------+----------------------+-----------+-----------+-----------+-----------+-----------+--------------------+--------------------+--------------------+-------------+--------------------+-------+----------+------------+--------------------+-----------+------------+-----+-----+\n",
      "only showing top 5 rows\n",
      "\n"
     ]
    }
   ],
   "source": [
    "from pyspark.sql import SparkSession\n",
    "\n",
    "# Start Spark session\n",
    "spark = SparkSession.builder.appName(\"YelpDataAnalysis1\").getOrCreate()\n",
    "\n",
    "# Load Yelp dataset (adjust the path if needed)\n",
    "df = spark.read.json(\"DA_project.json\")\n",
    "\n",
    "# Show first few rows\n",
    "df.show(5)\n"
   ]
  },
  {
   "cell_type": "code",
   "execution_count": 5,
   "id": "ae67720d-51e4-413a-97dc-646719395a5a",
   "metadata": {},
   "outputs": [
    {
     "name": "stdout",
     "output_type": "stream",
     "text": [
      "Data successfully indexed into Elasticsearch!\n"
     ]
    }
   ],
   "source": [
    "from elasticsearch import Elasticsearch, helpers\n",
    "import json\n",
    "\n",
    "# Connect to Elasticsearch\n",
    "es = Elasticsearch(\n",
    "    \"http://localhost:9200\",\n",
    "    basic_auth=(\"elastic\", \"elvaelastic\")\n",
    ")\n",
    "\n",
    "# Load cleaned data\n",
    "with open(\"DA_Project.json\", \"r\") as f:\n",
    "    try:\n",
    "        # Try loading as a JSON array (standard format)\n",
    "        data = json.load(f)\n",
    "    except json.JSONDecodeError:\n",
    "        # If that fails, try loading it as NDJSON (line-separated JSON)\n",
    "        f.seek(0)  # Reset file pointer\n",
    "        data = [json.loads(line) for line in f]\n",
    "\n",
    "# Define index name\n",
    "index_name = \"yelp_data_cleaned1\"\n",
    "\n",
    "# Check if index exists, if not, create it\n",
    "if not es.indices.exists(index=index_name):\n",
    "    es.indices.create(index=index_name)\n",
    "\n",
    "# Bulk insert data\n",
    "actions = [\n",
    "    {\n",
    "        \"_index\": index_name,\n",
    "        \"_source\": doc\n",
    "    }\n",
    "    for doc in data\n",
    "]\n",
    "\n",
    "helpers.bulk(es, actions)\n",
    "print(\"Data successfully indexed into Elasticsearch!\")"
   ]
  },
  {
   "cell_type": "code",
   "execution_count": null,
   "id": "30d044e4-b5b4-4b8c-bc47-1aaac2636711",
   "metadata": {},
   "outputs": [],
   "source": []
  }
 ],
 "metadata": {
  "kernelspec": {
   "display_name": "Python 3 (ipykernel)",
   "language": "python",
   "name": "python3"
  },
  "language_info": {
   "codemirror_mode": {
    "name": "ipython",
    "version": 3
   },
   "file_extension": ".py",
   "mimetype": "text/x-python",
   "name": "python",
   "nbconvert_exporter": "python",
   "pygments_lexer": "ipython3",
   "version": "3.13.2"
  }
 },
 "nbformat": 4,
 "nbformat_minor": 5
}
